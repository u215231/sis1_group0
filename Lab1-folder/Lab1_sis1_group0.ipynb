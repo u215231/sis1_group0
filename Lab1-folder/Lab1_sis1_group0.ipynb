{
  "cells": [
    {
      "cell_type": "markdown",
      "source": [
        "Marc Bosch Manzano. u215231"
      ],
      "metadata": {
        "id": "_qb29Y5ZwYf8"
      }
    },
    {
      "cell_type": "markdown",
      "metadata": {
        "id": "EuCJXTMr_3eA"
      },
      "source": [
        "# **Intro to SiS1 Labs**\n",
        "\n",
        "The goal of the labs of Signal and Systems 1 is to gain knowledge on the course’s topics by solving a specific signal processing problem. By the end of the course, each group should be able to synthesize the sound produced by a plucked string instrument using the knowledge acquired in the theory and seminar classes. This will be a cumulative process, in each lab new techniques will be applied in order to improve the synthesis. First let's show what we will achieve by the end of the course. For each lab we need to import some auxiliary functions needed to load the audio files and listen to them:\n"
      ]
    },
    {
      "cell_type": "code",
      "execution_count": null,
      "metadata": {
        "id": "ypTWnizY5Ui_"
      },
      "outputs": [],
      "source": [
        "!git clone https://github.com/pzinemanas/sis1lab.git\n",
        "from sis1lab.util import load_audio, save_audio, plot_signals\n",
        "from IPython.display import Audio"
      ]
    },
    {
      "cell_type": "markdown",
      "metadata": {
        "id": "3kyuMhzf5829"
      },
      "source": [
        "**Reference signal**\n",
        "\n",
        "Now let's load and listen to a reference signal like the one you will use:"
      ]
    },
    {
      "cell_type": "code",
      "execution_count": null,
      "metadata": {
        "id": "IaEhbheD5_3g"
      },
      "outputs": [],
      "source": [
        "reference, fs = load_audio('sis1lab/audio/reference.wav')\n",
        "Audio(reference, rate=fs)"
      ]
    },
    {
      "cell_type": "markdown",
      "metadata": {
        "id": "37nq4EIj6CVE"
      },
      "source": [
        "**Synthesis**\n",
        "\n",
        "Now we can load and listen to a synthesised signal like the one you will obtain and that tries to imitate the reference signal. This is an audio signal created from scratch only using the knowledge gained during the course."
      ]
    },
    {
      "cell_type": "code",
      "execution_count": null,
      "metadata": {
        "id": "Kpyugi4h6Fx2"
      },
      "outputs": [],
      "source": [
        "synthesis, fs = load_audio('sis1lab/audio/synthesis.wav')\n",
        "Audio(synthesis, rate=fs)"
      ]
    },
    {
      "cell_type": "markdown",
      "metadata": {
        "id": "TleTywiG6TNv"
      },
      "source": [
        "---"
      ]
    },
    {
      "cell_type": "markdown",
      "metadata": {
        "id": "lOuLJ9tG5HmQ"
      },
      "source": [
        "## **Lab 1**\n",
        "In this lab you will choose your reference sound to be used for all the labs and start imitating it with a single sinusoid."
      ]
    },
    {
      "cell_type": "markdown",
      "metadata": {
        "id": "wedbHQgYD8Gd"
      },
      "source": [
        "## **Exercises**\n",
        "\n",
        "**1. Choose a reference sound**\n",
        "\n",
        "1.1. Find a recording of a single plucked string sound. Be creative, do not choose “guitar” by default, nor copy a sound from another group. You can use [Freesound](https://freesound.org/) to find the recordings (Freesound is a huge collaborative database of audio snippets released under Creative Commons licenses created and maintained by researchers of the Music Technology Group of the UPF). Try to find a sound with the best possible quality. The ideal sound format should be: uncompress (such as.wav, .aiff, but no .mp3), mono (one channel) and with a sampling rate of  44100Hz. The sound file should also contain a single note. You can start by downloading a sound from freesound and modify it with Audacity to the right format and content."
      ]
    },
    {
      "cell_type": "markdown",
      "metadata": {
        "id": "nQzeA7FHIq_4"
      },
      "source": [
        "Choosed link: https://freesound.org/people/MTG/sounds/246578/"
      ]
    },
    {
      "cell_type": "markdown",
      "metadata": {
        "id": "CzY_zhNNI3jP"
      },
      "source": [
        "1.2. Create a github repository and upload your edited audio file there:\n",
        "\n",
        "1) Sing up to github using your UPF gmail account: https://github.com/\n",
        "\n",
        "2) Create a public repository called **sis1_groupX** where X is your group number: https://docs.github.com/en/get-started/quickstart/create-a-repo\n",
        "\n",
        "3) Upload your edited audio file to the repository\n"
      ]
    },
    {
      "cell_type": "markdown",
      "metadata": {
        "id": "ZOToMiLUtlPn"
      },
      "source": [
        "1.3. Now you can clone your repository and access the audio file locally. Change the following code (user name and file name) to clone the repository and load the audio file."
      ]
    },
    {
      "cell_type": "code",
      "execution_count": null,
      "metadata": {
        "id": "ubEXBkaptkt8"
      },
      "outputs": [],
      "source": [
        "!git clone https://github.com/u215231/sis1_group0.git\n",
        "filepath = \"sis1_group0/Lab1-folder/246658__mtg__overall-quality-of-single-note-flute-a4.wav\"\n",
        "ref, fs = load_audio(filepath)\n",
        "\n",
        "#Note: If the files in filepath are modified, go to \"Runtime\" -> \"Disconect and\n",
        "# delete runtime\" to restart the saved files in colab."
      ]
    },
    {
      "cell_type": "markdown",
      "metadata": {
        "id": "bSUaYNjIKNvk"
      },
      "source": [
        "Note that `load_audio` function returns two variables: the audio signal (as a one dimensional array of floating point numbers), and the sampling rate (as a integer number). Now we can plot the audio signal:"
      ]
    },
    {
      "cell_type": "code",
      "execution_count": null,
      "metadata": {
        "id": "b8Rc6jowKd9m"
      },
      "outputs": [],
      "source": [
        "plot_signals(ref, fs)"
      ]
    },
    {
      "cell_type": "markdown",
      "metadata": {
        "id": "OpC2ektLLOEz"
      },
      "source": [
        "You can use the zoom in tool to see more details."
      ]
    },
    {
      "cell_type": "markdown",
      "metadata": {
        "id": "oRaDBnzlL3Eo"
      },
      "source": [
        "You can also use Audio widget to listen the audio signal:"
      ]
    },
    {
      "cell_type": "code",
      "execution_count": null,
      "metadata": {
        "id": "tASfGZQ8Lucl"
      },
      "outputs": [],
      "source": [
        "Audio(ref, rate=fs)"
      ]
    },
    {
      "cell_type": "markdown",
      "metadata": {
        "id": "L57v5vMrN9Ot"
      },
      "source": [
        "\n",
        "\n",
        "---\n",
        "\n"
      ]
    },
    {
      "cell_type": "markdown",
      "metadata": {
        "id": "E4qrE8MyNEJn"
      },
      "source": [
        "**2. Measure the signal period**\n",
        "\n",
        "2.1. Find the note frequency (fundamental frequency) based on the musical note name given in the file name or description (i.e. A3 note corresponds to the frequency 220 Hz. See https://pages.mtu.edu/~suits/notefreqs.html)."
      ]
    },
    {
      "cell_type": "markdown",
      "metadata": {
        "id": "ee6QZQuSN2VK"
      },
      "source": [
        "Note = A4\n",
        "Fundamental frequency = 442"
      ]
    },
    {
      "cell_type": "markdown",
      "metadata": {
        "id": "rqa9yRtdOBL0"
      },
      "source": [
        "2.2. Calculate the period from the frequency value using Python:\n"
      ]
    },
    {
      "cell_type": "code",
      "execution_count": null,
      "metadata": {
        "id": "7FfR2poWOImk"
      },
      "outputs": [],
      "source": [
        "# Write the code here\n",
        "\n",
        "frequency = 442\n",
        "period = 1/frequency\n",
        "\n",
        "print(f\"Period: {period:.2e} s\")"
      ]
    },
    {
      "cell_type": "markdown",
      "metadata": {
        "id": "SW5G_Ch0OSC-"
      },
      "source": [
        "2.3. Plot three periods of the signal using the `plot_signals` function and selecting `t_start` and `t_end` arguments accordingly. Try to get the first periods of the audio signal but avoiding the attack section."
      ]
    },
    {
      "cell_type": "code",
      "execution_count": null,
      "metadata": {
        "id": "sMKb9-CMNQLJ"
      },
      "outputs": [],
      "source": [
        "# Write the code here\n",
        "\n",
        "init_time = 0.94631\n",
        "number_of_periods = 5\n",
        "\n",
        "plot_signals(ref, fs, t_start = init_time, t_end = (init_time + period*number_of_periods))"
      ]
    },
    {
      "cell_type": "markdown",
      "metadata": {
        "id": "jBxOf-CeOtyP"
      },
      "source": [
        "2.4. Measure the period of the signal manually by identifying the begining and ending of a periodic cycle. Note that when you hover the mouse over one of the points in the plot, you can see the time and amplitude values. For instance, you can check the cross by zero."
      ]
    },
    {
      "cell_type": "markdown",
      "metadata": {
        "id": "QzqeQ8EwPZN7"
      },
      "source": [
        "We have obtained five consecutive points of time from this plotting of the signal above when the sinusoid wave has 0 amplitude. The initial point is 0.9463.\n",
        "\n",
        "*t_points* = {0.9463, 0.9488, 0.9513, 0.9538, 0.9563}.\n",
        "\n",
        "We compute the differences between each point and we make its average to obtain the aproximated experimental period.\n",
        "\n",
        "*T_experimental* = 2.50·10-3 s.\n"
      ]
    },
    {
      "cell_type": "markdown",
      "metadata": {
        "id": "a1QBbHmtPitr"
      },
      "source": [
        "2.5. Do the measured (2.4) and theoretical (2.2) periods coincide? If not, explain why."
      ]
    },
    {
      "cell_type": "markdown",
      "metadata": {
        "id": "L-XVkTs6Rgov"
      },
      "source": [
        "The previous measured period is not exactly equal the theorical period of the fundamental harmonic of the wave.\n",
        "\n",
        "*T_theorical* = 2.26·10-3 s ≠ 2.50·10-3 s *T_experimental*\n",
        "\n"
      ]
    },
    {
      "cell_type": "markdown",
      "metadata": {
        "id": "6X5WbfamR8wa"
      },
      "source": [
        "**3. Generating a sinusoid**"
      ]
    },
    {
      "cell_type": "markdown",
      "metadata": {
        "id": "W7rbJNL8SJ5l"
      },
      "source": [
        "3.1. Create a sinusoid of the same duration than the reference signal and same frequency than the fundamental frequency. Plot it along with the audio signal of the reference recording. Plot the same time segment that 2.3. Note that the sampling rate should be the same for both signals. Try to find the values of Amplitude and initial Phase that make the two signal segments plotted to match as close as possible (do not attempt to imitate the whole signal). Matching the phase is a bit tricky.\n",
        "\n"
      ]
    },
    {
      "cell_type": "code",
      "execution_count": null,
      "metadata": {
        "id": "hUhdrkV9VEIM"
      },
      "outputs": [],
      "source": [
        "# Write the code here\n",
        "\n",
        "import numpy as np\n",
        "\n",
        "A = 0.4\n",
        "f0 = 442.0\n",
        "phi = 0\n",
        "fs = 44100\n",
        "t = np.arange(0, 4, 1/fs)\n",
        "x = A * (np.sin((2*np.pi)*f0*t))\n",
        "\n",
        "init_time = 0\n",
        "period = 1/f0\n",
        "number_of_periods = 3\n",
        "\n",
        "plot_signals(x, fs, t_start = init_time, t_end = (init_time + period * number_of_periods))"
      ]
    },
    {
      "cell_type": "code",
      "execution_count": null,
      "metadata": {
        "id": "QW5S-MZm_nkF"
      },
      "outputs": [],
      "source": [
        "Audio(x, rate=fs)"
      ]
    },
    {
      "cell_type": "markdown",
      "metadata": {
        "id": "-XZsH78TVZYi"
      },
      "source": [
        "3.2. What are the main differences between the two signals."
      ]
    },
    {
      "cell_type": "markdown",
      "metadata": {
        "id": "MiV8xpIWVp_T"
      },
      "source": [
        "The first signal is a non pure sound, because it is a composition of more than one sinusoids. However, the second signal is a pure sound.\n"
      ]
    },
    {
      "cell_type": "markdown",
      "metadata": {
        "id": "gVWDFf-6Vudv"
      },
      "source": [
        "3.3. Listen to the synthesized signal usign the Audio widget. Sounds natural?"
      ]
    },
    {
      "cell_type": "markdown",
      "metadata": {
        "id": "xHLYfiapDtmn"
      },
      "source": [
        "No, it sounds like a robotic sound."
      ]
    },
    {
      "cell_type": "markdown",
      "metadata": {
        "id": "YZQldb_QWdyq"
      },
      "source": [
        "3.4. Save the synthesized signal using the 'save_audio` function:"
      ]
    },
    {
      "cell_type": "code",
      "execution_count": null,
      "metadata": {
        "id": "D843gdiOGE1f"
      },
      "outputs": [],
      "source": [
        "from google.colab import drive\n",
        "drive.mount('/content/drive')"
      ]
    },
    {
      "cell_type": "code",
      "execution_count": null,
      "metadata": {
        "id": "IIefvQl8WqUc"
      },
      "outputs": [],
      "source": [
        "save_audio('sis1_group0/Lab1-folder/a4_pure_tone.wav', x, fs)\n"
      ]
    }
  ],
  "metadata": {
    "colab": {
      "provenance": []
    },
    "kernelspec": {
      "display_name": "Python 3",
      "name": "python3"
    },
    "language_info": {
      "name": "python"
    }
  },
  "nbformat": 4,
  "nbformat_minor": 0
}